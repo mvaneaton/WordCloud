{
 "cells": [
  {
   "cell_type": "markdown",
   "metadata": {},
   "source": [
    "# StyleCloud with mask"
   ]
  },
  {
   "cell_type": "markdown",
   "metadata": {},
   "source": [
    "####  Libraries to install"
   ]
  },
  {
   "cell_type": "code",
   "execution_count": 4,
   "metadata": {},
   "outputs": [],
   "source": [
    "#pip install stylecloud\n",
    "#pip install fontawesome\n",
    "#pip install fontstyle\n",
    "#pip install stop_words"
   ]
  },
  {
   "cell_type": "code",
   "execution_count": 5,
   "metadata": {},
   "outputs": [
    {
     "name": "stdout",
     "output_type": "stream",
     "text": [
      "Collecting fontawesome-free\n",
      "  Downloading fontawesome_free-5.15.4-py3-none-any.whl (20.9 MB)\n",
      "\u001b[K     |████████████████████████████████| 20.9 MB 11.3 MB/s eta 0:00:01   |██████▎                         | 4.1 MB 5.0 MB/s eta 0:00:04\n",
      "\u001b[?25hInstalling collected packages: fontawesome-free\n",
      "Successfully installed fontawesome-free-5.15.4\n",
      "Note: you may need to restart the kernel to use updated packages.\n"
     ]
    }
   ],
   "source": [
    "pip install fontawesome-free"
   ]
  },
  {
   "cell_type": "markdown",
   "metadata": {},
   "source": [
    "####  PDF to txt"
   ]
  },
  {
   "cell_type": "code",
   "execution_count": 6,
   "metadata": {},
   "outputs": [],
   "source": [
    "import PyPDF2   #PDF to text\n",
    "import re       #removes punctuation"
   ]
  },
  {
   "cell_type": "code",
   "execution_count": 7,
   "metadata": {},
   "outputs": [],
   "source": [
    "#                Sources for help\n",
    "#                From: https://www.youtube.com/watch?v=RULkvM7AdzY\n",
    "#                From: https://towardsdatascience.com/how-to-create-beautiful-word-clouds-in-python-cfcf85141214 "
   ]
  },
  {
   "cell_type": "code",
   "execution_count": 8,
   "metadata": {},
   "outputs": [],
   "source": [
    "# pdf file and txt file name\n",
    "\n",
    "pdf_to_convert = 'The_First_Thanksgiving_tex.pdf'\n",
    "txt_file_name = r'The_First_Thanksgiving_tex.txt'"
   ]
  },
  {
   "cell_type": "code",
   "execution_count": 9,
   "metadata": {},
   "outputs": [
    {
     "name": "stdout",
     "output_type": "stream",
     "text": [
      "Combined 12 pages of PDF into a txt file\n"
     ]
    }
   ],
   "source": [
    "#  Function:  Convert multiple pages of PDF text into one combined text file.\n",
    "\n",
    "def extract_text_from_pdf(pdf_file: str) -> [str]:\n",
    "    # Open the PDF file of your choice\n",
    "    with open(pdf_file, 'rb') as pdf:\n",
    "        reader = PyPDF2.PdfFileReader(pdf, strict=False)\n",
    "        no_pages = len(reader.pages)\n",
    "        pdf_text = []\n",
    "\n",
    "        for page in reader.pages:\n",
    "            content = page.extract_text()\n",
    "            pdf_text.append(content)\n",
    "        print(\"Combined {} pages of PDF into a txt file\".format(no_pages))\n",
    "        return pdf_text\n",
    "\n",
    "#  Function:  takes pdf file and converts it into text; can remove punctuation and seperate words for analysis.\n",
    "\n",
    "def main():\n",
    "    extracted_text = extract_text_from_pdf(pdf_to_convert)\n",
    "    for text in extracted_text:\n",
    "        #split_message = re.split(r'\\s+|[,;?!.-]\\s*', text.lower())\n",
    "        #print(text)\n",
    "        #print(split_message)\n",
    "        file1=open(txt_file_name,\"a\")\n",
    "        file1.writelines(text)\n",
    "\n",
    "if __name__ == '__main__':\n",
    "    main()\n"
   ]
  },
  {
   "cell_type": "markdown",
   "metadata": {},
   "source": [
    "####  StyleCloud Creation"
   ]
  },
  {
   "cell_type": "code",
   "execution_count": 1,
   "metadata": {},
   "outputs": [],
   "source": [
    "import stylecloud\n",
    "import fontawesome as fa  \n",
    "import fontstyle\n",
    "from stop_words import get_stop_words\n",
    "stop_words = get_stop_words('english')"
   ]
  },
  {
   "cell_type": "code",
   "execution_count": null,
   "metadata": {},
   "outputs": [],
   "source": [
    "# https://jiffyclub.github.io/palettable/   For color palletes\n",
    "# https://fontawesome.com/v5/search?o=r&m=free  For icon images"
   ]
  },
  {
   "cell_type": "code",
   "execution_count": 2,
   "metadata": {},
   "outputs": [],
   "source": [
    "amazon_logo = stylecloud.gen_stylecloud(file_path = 'Amazon leadership principles.txt',\n",
    "                         icon_name = \"fab fa-amazon\",\n",
    "                         palette = 'cmocean.sequential.Matter_20',\n",
    "                         background_color = \"white\",\n",
    "                         output_name = 'amazon.png',\n",
    "                         collocations = False,\n",
    "                         custom_stopwords = stop_words)\n",
    "amazon_logo"
   ]
  },
  {
   "cell_type": "code",
   "execution_count": 8,
   "metadata": {},
   "outputs": [],
   "source": [
    "turkey_leg = stylecloud.gen_stylecloud(file_path = 'The_First_Thanksgiving_tex.txt',\n",
    "                         icon_name = 'fas fa-drumstick-bite',\n",
    "                         palette = 'colorbrewer.sequential.YlOrBr_9',\n",
    "                         background_color = \"white\",\n",
    "                         output_name = 'turkey.png',\n",
    "                         collocations = False,\n",
    "                         custom_stopwords = stop_words)\n"
   ]
  },
  {
   "cell_type": "code",
   "execution_count": null,
   "metadata": {},
   "outputs": [],
   "source": []
  }
 ],
 "metadata": {
  "kernelspec": {
   "display_name": "Python 3",
   "language": "python",
   "name": "python3"
  },
  "language_info": {
   "codemirror_mode": {
    "name": "ipython",
    "version": 3
   },
   "file_extension": ".py",
   "mimetype": "text/x-python",
   "name": "python",
   "nbconvert_exporter": "python",
   "pygments_lexer": "ipython3",
   "version": "3.8.5"
  }
 },
 "nbformat": 4,
 "nbformat_minor": 4
}
